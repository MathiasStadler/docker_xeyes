{
 "cells": [
  {
   "cell_type": "markdown",
   "metadata": {},
   "source": [
    "docker top 2d445cf8cd3f\n",
    "# docker top <container id>"
   ]
  }
 ],
 "metadata": {
  "kernelspec": {
   "display_name": "Bash",
   "language": "bash",
   "name": "bash"
  },
  "language_info": {
   "name": "bash"
  }
 },
 "nbformat": 4,
 "nbformat_minor": 2
}
